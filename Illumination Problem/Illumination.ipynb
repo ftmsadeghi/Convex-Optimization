{
 "cells": [
  {
   "cell_type": "markdown",
   "metadata": {},
   "source": [
    "# Illumination Problem\n",
    "This problem is discussed in cvx_books_slides.pdf, lecture 1, pages 9-11. Consider $m$ fixed lamps illuminating $n$ small and flat patches in a 2-d space, \n",
    "![figure](imgs/ilumination.png)\n",
    "\n",
    "Moreover, the ilumination intensity $I_k$ in a patch $k$ depends linearly on lamp powers $p_j$,\n",
    "\\begin{align}\n",
    "I_k = \\sum_{j=1}^m a_{kj}p_j, \\quad a_{kj} = r_{k,j}^{-2}~max(cos~\\theta_{kj}, 0)\n",
    "\\end{align}\n",
    "where $r_{kj}$ is the distance between the patch $k$ and lamp $j$, and $\\theta_{kj}$ is the angle between $r_kj$ and the normal vector to the patch surface $k$. **The goal is to choose the bounded lamps power $p_j$ in order to achieve a desired illumination $I_{des}$**. \n"
   ]
  },
  {
   "cell_type": "markdown",
   "metadata": {},
   "source": [
    "## Problem data\n",
    "\n",
    "* There are 10 lamps ($m = 10$) and 20 patches ($n = 20$).\n",
    "* $p \\in \\mathbb{R}^m$ is our problem variables, where $p_j$ is the power of lamp $j$.\n",
    "* Let's consider the matrix $A \\in \\mathbb{R}^{n \\times m}$ where $A_{ij}$ defines the incidence ($a_{ij}$) of lamp $j$ on patch $i$. The matrix A is stored in the data/illum_data.csv.\n",
    "* We take $I_{des}=1$ and $p_{max}=1$. "
   ]
  },
  {
   "cell_type": "code",
   "execution_count": 105,
   "metadata": {
    "collapsed": false
   },
   "outputs": [
    {
     "name": "stdout",
     "output_type": "stream",
     "text": [
      "A defines the geometry for n=20 patches and m=10 lamps\n"
     ]
    }
   ],
   "source": [
    "# Import libraries\n",
    "%matplotlib inline\n",
    "import numpy as np\n",
    "np.set_printoptions(precision=2, suppress=True)\n",
    "import matplotlib.pyplot as plt\n",
    "from cvxpy import *\n",
    "\n",
    "\n",
    "# Load Data\n",
    "A = np.loadtxt('./data/illum_data.csv', delimiter=',')\n",
    "n, m = A.shape\n",
    "Ides = 1\n",
    "pmax = 1\n",
    "\n",
    "print(\"A defines the geometry for n={} patches and m={} lamps\".format(n,m))"
   ]
  },
  {
   "cell_type": "markdown",
   "metadata": {},
   "source": [
    "## Problem Description\n",
    "\n",
    "We can express the general illumination problem as,\n",
    "\\begin{equation*}\n",
    "\\begin{aligned}\n",
    "& \\underset{x}{\\text{minimize}}\n",
    "& & \\text{max}_{k=1,\\ldots,n} \\mid log~I_k - log~I_{des}\\mid \\\\\n",
    "& \\text{subject to}\n",
    "& & 0 \\leq p_j \\leq p_{max},~j=1,\\ldots,m\\\\\n",
    "\\end{aligned}\n",
    "\\end{equation*}\n",
    "\n",
    "Our data, however, allows simplifications of the objective $f_0(\\dot) $ of our problem,\n",
    "\n",
    "\\begin{equation*}\n",
    "\\begin{aligned}\n",
    "f_0(p) &= \\text{max}_{k=1,\\ldots,n} \\mid log~I_k - log~I_{des}\\mid & (log~I_{des} = log~1 = 0)\\\\\n",
    "& = \\text{max}_{k=1,\\ldots,n} \\mid log~I_k\\mid  & (\\mid log~I_{des} \\mid = log~I_{des}~\\text{or}~-log~I_{des} = log~I_{des}^{-1})\\\\\n",
    "& = \\text{max}_{k=1,\\ldots,n} \\text{max} \\left\\{ log~I_k, log~(1 / I_k) \\right\\} & (\\text{log function is monotonically increasing})\\\\\n",
    "& = log~\\text{max}_{k=1,\\ldots,n} \\text{max} \\left\\{ I_k, (1 / I_k) \\right\\} & \n",
    "\\end{aligned}\n",
    "\\end{equation*}\n",
    "\n",
    "Then our problem can be described as,\n",
    "\\begin{equation*}\n",
    "\\begin{aligned}\n",
    "& \\underset{x}{\\text{minimize}}\n",
    "& & log~\\text{max}_{k=1,\\ldots,n} \\text{max} \\left\\{ I_k, (1 / I_k) \\right\\} \\\\\n",
    "& \\text{subject to}\n",
    "& & 0 \\leq p_j \\leq p_{max},~j=1,\\ldots,m\\\\\n",
    "\\end{aligned}\n",
    "\\end{equation*}\n",
    "which is a convex optimizations problem, since logarithm is a monotonically increasing function and we are minimizing a pointwise maximum of linear functions. \n",
    "\n",
    "Therefore, we will compute several approximate solutions, and compare the results to the exact solution, for our specific problem instance.\n"
   ]
  },
  {
   "cell_type": "markdown",
   "metadata": {},
   "source": [
    "### Approximate solutions:\n",
    "\n",
    "#### 1 - Use uniform power \n",
    "Take $p_j = \\lambda$ for $j = 1,\\ldots,m$, vary $\\lambda \\in [0, p_{max}]$ and compute $f_0(p)$. Then, pick the $\\lambda$ as the one which gives the smallest value of $f_0(p)$."
   ]
  },
  {
   "cell_type": "code",
   "execution_count": 191,
   "metadata": {
    "collapsed": false
   },
   "outputs": [
    {
     "name": "stdout",
     "output_type": "stream",
     "text": [
      "Best solution p* = [ 0.36  0.36  0.36  0.36  0.36  0.36  0.36  0.36  0.36  0.36]\n",
      "Best objective f0* = 0.50\n"
     ]
    },
    {
     "data": {
      "image/png": "[encoded data removed]",
      "text/plain": [
       "<matplotlib.figure.Figure at 0x7f07d1fc9400>"
      ]
     },
     "metadata": {},
     "output_type": "display_data"
    }
   ],
   "source": [
    "# The maximum difference to the desired ilumination\n",
    "def objective(p):\n",
    "    return np.max(np.abs(np.log(np.dot(A,p) + 1e-8)), axis=0)\n",
    "\n",
    "num_vals = 15\n",
    "lamb = np.linspace(0, pmax, num=num_vals)\n",
    "ps = np.dot(np.ones((m,1)), lamb.reshape(1, num_vals))\n",
    "f0s = objective(ps)\n",
    "plt.plot(lamb, f0s)\n",
    "idx = np.argmin(f0s)\n",
    "p_uni = np.ones(m) * lamb[idx]\n",
    "f0_uni = f0s[idx]\n",
    "print(\"Best solution p* = {}\\nBest objective f0* = {:.2f}\".format(p_uni, f0_uni))"
   ]
  },
  {
   "cell_type": "markdown",
   "metadata": {},
   "source": [
    "#### 2 -  Least-squares with saturations: \n",
    "solve the least-squares problem, (i.e., $\\text{minimize}~\\mid\\mid Ap - I_{des}\\mid\\mid^2_2$) and clip the solution $p_j$ values between $[0,p_{max}]$. "
   ]
  },
  {
   "cell_type": "code",
   "execution_count": 189,
   "metadata": {
    "collapsed": false
   },
   "outputs": [
    {
     "name": "stdout",
     "output_type": "stream",
     "text": [
      "Best solution p*=[ 1.  0.  1.  0.  0.  1.  0.  1.  0.  1.]\n",
      "Best objective f0*=0.86\n"
     ]
    }
   ],
   "source": [
    "p_ls, _, _, _ = np.linalg.lstsq(A, np.ones(n)*Ides)\n",
    "p_ls = np.clip(p_ls, 0, pmax)\n",
    "f0_ls = objective(p_ls)\n",
    "print(\"Best solution p*={}\\nBest objective f0*={:.2f}\".format(p_ls, f0_ls))"
   ]
  },
  {
   "cell_type": "markdown",
   "metadata": {},
   "source": [
    "#### 3 - Regularized least-squares: \n",
    "Solve regularized least-sqaures problems (i.e., $\\text{minimize}~\\mid\\mid Ap - I_{des}\\mid\\mid^2_2 + \\lambda \\mid\\mid p - 0.5p_{max} \\mid\\mid^2_2$) increasing the value of $\\lambda \\geq 0$ until the solution $p$ values are in the interval $[0, p_{max}]$."
   ]
  },
  {
   "cell_type": "code",
   "execution_count": 188,
   "metadata": {
    "collapsed": false
   },
   "outputs": [
    {
     "name": "stdout",
     "output_type": "stream",
     "text": [
      "Best solution p* = [ 0.48  0.46  0.08  0.04  0.44  0.43  0.45  0.43  0.4   0.45]\n",
      "Best objective f0* = 0.45\n"
     ]
    }
   ],
   "source": [
    "lambs = np.linspace(1e-3, 1, num=15);\n",
    "ps, norms = [], []\n",
    "for lamb in lambs: \n",
    "    cofs = np.vstack((A, np.sqrt(lamb)*np.eye(m)))\n",
    "    tgs = np.vstack((np.ones((n,1))*Ides, np.sqrt(lamb)*0.5*np.ones((m,1))*pmax))\n",
    "    p, _, _, _ = np.linalg.lstsq(cofs, tgs)\n",
    "    ps.append(p.ravel())\n",
    "    norms.append(np.linalg.norm(p.ravel() - 0.5, ord=np.inf))\n",
    "ps = np.array(ps)\n",
    "norms = np.array(norms)\n",
    "idx = np.where(norms <= 0.5)[0][0]\n",
    "p_rls = ps[idx]\n",
    "f0_rls = objective(p_rls)\n",
    "print(\"Best solution p* = {}\\nBest objective f0* = {:.2f}\".format(p_rls, f0_rls))"
   ]
  },
  {
   "cell_type": "markdown",
   "metadata": {},
   "source": [
    "#### 4 - Chebyshev approximation: \n",
    "Solve the problem, \n",
    "\\begin{equation*}\n",
    "\\begin{aligned}\n",
    "& \\underset{x}{\\text{minimize}}\n",
    "& & \\text{max}_{k=1,\\ldots,n} \\mid I_k - I_{des}\\mid \\\\\n",
    "& \\text{subject to}\n",
    "& & 0 \\leq p_j \\leq p_{max},~j=1,\\ldots,m\\\\\n",
    "\\end{aligned}\n",
    "\\end{equation*}\n",
    "\n",
    "We can think of this problem as obtained by approximating the nonlinear function $f_0$ by a piecewise-linear function."
   ]
  },
  {
   "cell_type": "code",
   "execution_count": 187,
   "metadata": {
    "collapsed": false
   },
   "outputs": [
    {
     "name": "stdout",
     "output_type": "stream",
     "text": [
      "Best solution p* = [ 1.    0.12  0.    0.    1.    0.    1.    0.02  0.    1.  ]\n",
      "Best objective f0* = 0.42\n"
     ]
    }
   ],
   "source": [
    "p = Variable(m)\n",
    "obj = Minimize(norm(A*p - Ides, 'inf'))\n",
    "const = [p >= 0, p <= pmax]\n",
    "prob = Problem(obj, const)\n",
    "prob.solve()  \n",
    "\n",
    "p_ch = np.ravel(p.value)\n",
    "f0_ch = objective(p_ch)\n",
    "print(\"Best solution p* = {}\\nBest objective f0* = {:.2f}\".format(p_ch, f0_ch))"
   ]
  },
  {
   "cell_type": "markdown",
   "metadata": {},
   "source": [
    "### Exact solutions\n",
    "Solve the problem,\n",
    "\n",
    "\\begin{equation*}\n",
    "\\begin{aligned}\n",
    "& \\underset{x}{\\text{minimize}}\n",
    "& & log~\\text{max}_{k=1,\\ldots,n} \\text{max} \\left\\{ I_k, (1 / I_k) \\right\\} \\\\\n",
    "& \\text{subject to}\n",
    "& & 0 \\leq p_j \\leq p_{max},~j=1,\\ldots,m\\\\\n",
    "\\end{aligned}\n",
    "\\end{equation*}"
   ]
  },
  {
   "cell_type": "code",
   "execution_count": 186,
   "metadata": {
    "collapsed": false
   },
   "outputs": [
    {
     "name": "stdout",
     "output_type": "stream",
     "text": [
      "Best solution p* = [ 1.    0.2   0.    0.    1.    0.    1.    0.19  0.    1.  ]\n",
      "Best objective f0* = 0.36\n"
     ]
    }
   ],
   "source": [
    "p = Variable(m)\n",
    "obj = Minimize(max_entries(max_elemwise(A*p , inv_pos(A*p))))\n",
    "const = [p >= 0, p <= pmax]\n",
    "prob = Problem(obj, const)\n",
    "prob.solve()  \n",
    "\n",
    "p_ex = np.ravel(p.value)\n",
    "f0_ex = objective(p_ex)\n",
    "print(\"Best solution p* = {}\\nBest objective f0* = {:.2f}\".format(p_ex, f0_ex))\n"
   ]
  },
  {
   "cell_type": "markdown",
   "metadata": {},
   "source": [
    "### Results\n",
    "\n",
    "The exact solution reaches the smallest objective which measures how close we are to the desired illumination $I_des$. The results are summarized in the following table,"
   ]
  },
  {
   "cell_type": "code",
   "execution_count": 192,
   "metadata": {
    "collapsed": false
   },
   "outputs": [
    {
     "data": {
      "text/html": [
       "<div>\n",
       "<table border=\"1\" class=\"dataframe\">\n",
       "  <thead>\n",
       "    <tr style=\"text-align: right;\">\n",
       "      <th></th>\n",
       "      <th>Chebyshev</th>\n",
       "      <th>Exact</th>\n",
       "      <th>Least-Square</th>\n",
       "      <th>Reg-Least-Square</th>\n",
       "      <th>Uniform</th>\n",
       "    </tr>\n",
       "  </thead>\n",
       "  <tbody>\n",
       "    <tr>\n",
       "      <th>f0(p)</th>\n",
       "      <td>0.420</td>\n",
       "      <td>0.357</td>\n",
       "      <td>0.863</td>\n",
       "      <td>0.446</td>\n",
       "      <td>0.501</td>\n",
       "    </tr>\n",
       "    <tr>\n",
       "      <th>p0</th>\n",
       "      <td>1.000</td>\n",
       "      <td>1.000</td>\n",
       "      <td>1.000</td>\n",
       "      <td>0.476</td>\n",
       "      <td>0.357</td>\n",
       "    </tr>\n",
       "    <tr>\n",
       "      <th>p1</th>\n",
       "      <td>0.116</td>\n",
       "      <td>0.202</td>\n",
       "      <td>0.000</td>\n",
       "      <td>0.455</td>\n",
       "      <td>0.357</td>\n",
       "    </tr>\n",
       "    <tr>\n",
       "      <th>p2</th>\n",
       "      <td>0.000</td>\n",
       "      <td>0.000</td>\n",
       "      <td>1.000</td>\n",
       "      <td>0.080</td>\n",
       "      <td>0.357</td>\n",
       "    </tr>\n",
       "    <tr>\n",
       "      <th>p3</th>\n",
       "      <td>0.000</td>\n",
       "      <td>0.000</td>\n",
       "      <td>0.000</td>\n",
       "      <td>0.038</td>\n",
       "      <td>0.357</td>\n",
       "    </tr>\n",
       "    <tr>\n",
       "      <th>p4</th>\n",
       "      <td>1.000</td>\n",
       "      <td>1.000</td>\n",
       "      <td>0.000</td>\n",
       "      <td>0.444</td>\n",
       "      <td>0.357</td>\n",
       "    </tr>\n",
       "    <tr>\n",
       "      <th>p5</th>\n",
       "      <td>0.000</td>\n",
       "      <td>0.000</td>\n",
       "      <td>1.000</td>\n",
       "      <td>0.427</td>\n",
       "      <td>0.357</td>\n",
       "    </tr>\n",
       "    <tr>\n",
       "      <th>p6</th>\n",
       "      <td>1.000</td>\n",
       "      <td>1.000</td>\n",
       "      <td>0.000</td>\n",
       "      <td>0.450</td>\n",
       "      <td>0.357</td>\n",
       "    </tr>\n",
       "    <tr>\n",
       "      <th>p7</th>\n",
       "      <td>0.025</td>\n",
       "      <td>0.188</td>\n",
       "      <td>1.000</td>\n",
       "      <td>0.426</td>\n",
       "      <td>0.357</td>\n",
       "    </tr>\n",
       "    <tr>\n",
       "      <th>p8</th>\n",
       "      <td>0.000</td>\n",
       "      <td>0.000</td>\n",
       "      <td>0.000</td>\n",
       "      <td>0.404</td>\n",
       "      <td>0.357</td>\n",
       "    </tr>\n",
       "    <tr>\n",
       "      <th>p9</th>\n",
       "      <td>1.000</td>\n",
       "      <td>1.000</td>\n",
       "      <td>1.000</td>\n",
       "      <td>0.446</td>\n",
       "      <td>0.357</td>\n",
       "    </tr>\n",
       "  </tbody>\n",
       "</table>\n",
       "</div>"
      ],
      "text/plain": [
       "       Chebyshev  Exact  Least-Square  Reg-Least-Square  Uniform\n",
       "f0(p)      0.420  0.357         0.863             0.446    0.501\n",
       "p0         1.000  1.000         1.000             0.476    0.357\n",
       "p1         0.116  0.202         0.000             0.455    0.357\n",
       "p2         0.000  0.000         1.000             0.080    0.357\n",
       "p3         0.000  0.000         0.000             0.038    0.357\n",
       "p4         1.000  1.000         0.000             0.444    0.357\n",
       "p5         0.000  0.000         1.000             0.427    0.357\n",
       "p6         1.000  1.000         0.000             0.450    0.357\n",
       "p7         0.025  0.188         1.000             0.426    0.357\n",
       "p8         0.000  0.000         0.000             0.404    0.357\n",
       "p9         1.000  1.000         1.000             0.446    0.357"
      ]
     },
     "execution_count": 192,
     "metadata": {},
     "output_type": "execute_result"
    }
   ],
   "source": [
    "import pandas as pd\n",
    "pd.set_option('display.float_format', lambda x: '{:.3f}'.format(x))\n",
    "\n",
    "index = ['f0(p)']\n",
    "index.extend([\"p{}\".format(i) for i in range(m)])\n",
    "\n",
    "d = {'Uniform' : pd.Series([f0_uni] + p_uni.tolist(), index=index),\n",
    "    'Least-Square' : pd.Series([f0_ls] + p_ls.tolist(), index=index),\n",
    "    'Reg-Least-Square' : pd.Series([f0_rls] + p_rls.tolist(), index=index),\n",
    "    'Chebyshev' : pd.Series([f0_ch] + p_ch.tolist(), index=index),\n",
    "    'Exact' : pd.Series([f0_ex] + p_ex.tolist(), index=index)\n",
    "    }\n",
    "df = pd.DataFrame(d)\n",
    "df"
   ]
  },
  {
   "cell_type": "code",
   "execution_count": null,
   "metadata": {
    "collapsed": true
   },
   "outputs": [],
   "source": []
  }
 ],
 "metadata": {
  "kernelspec": {
   "display_name": "Python 3",
   "language": "python",
   "name": "python3"
  },
  "language_info": {
   "codemirror_mode": {
    "name": "ipython",
    "version": 3
   },
   "file_extension": ".py",
   "mimetype": "text/x-python",
   "name": "python",
   "nbconvert_exporter": "python",
   "pygments_lexer": "ipython3",
   "version": "3.4.4"
  }
 },
 "nbformat": 4,
 "nbformat_minor": 0
}
