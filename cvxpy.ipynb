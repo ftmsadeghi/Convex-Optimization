{
  "nbformat": 4,
  "nbformat_minor": 0,
  "metadata": {
    "colab": {
      "provenance": []
    },
    "kernelspec": {
      "name": "python3",
      "display_name": "Python 3"
    },
    "language_info": {
      "name": "python"
    }
  },
  "cells": [
    {
      "cell_type": "code",
      "execution_count": null,
      "metadata": {
        "id": "D3cOKz7gG8Mf"
      },
      "outputs": [],
      "source": [
        "import cvxpy as cp\n",
        "import numpy as np"
      ]
    },
    {
      "cell_type": "markdown",
      "source": [],
      "metadata": {
        "id": "fra5V6mfckEN"
      }
    },
    {
      "cell_type": "markdown",
      "source": [
        "## **Least-squares**\n",
        "\n",
        "In a least-squares, or linear regression, problem, we have measurements $A \\in {R}^{m \\times n}$ and $b \\in {R}^{m}$ and seek a vector $x \\in {R}^{n}$ such that $Ax$ is close to $b$. Closeness is defined as the sum of the squared differences:\n",
        "\n",
        "\n",
        "$$ \\sum_{i=1}^{m}(a_{i}^{T}x-b_{i})^{2} $$\n",
        "\n",
        "also known as the $\\ell_2$-norm squared, $\\|Ax-b\\|_2^2$.\n",
        "\n",
        "For example, we might have a dataset of $m$ users, each represented by $n$ features. Each row $a_i^T$ of $A$ is the features for user $i$, while the corresponding entry $b_i$ of $b$ is the measurement we want to predict from $a_i^T$, such as ad spending. The prediction is given by $a_i^T x$\n",
        "\n",
        "We find the optimal $x$ by solving the optimization problem\n",
        "\n",
        "$$ \\text{minimize } \\|Ax-b\\|_2^2.$$\n",
        "\n",
        "> Let $x^*$ denote the optimal $x$. The quantity $r = Ax^* - b$ is known as the residual. If $\\|r\\|_2 = 0$, we have a perfect fit."
      ],
      "metadata": {
        "id": "LPNur1bdL2hh"
      }
    },
    {
      "cell_type": "code",
      "source": [
        "m = 3\n",
        "n = 2\n",
        "np.random.seed(1)\n",
        "A = np.random.randn(m, n)\n",
        "b = np.random.randn(m)"
      ],
      "metadata": {
        "id": "t0L29yKrHBYL"
      },
      "execution_count": null,
      "outputs": []
    },
    {
      "cell_type": "code",
      "source": [
        "A"
      ],
      "metadata": {
        "colab": {
          "base_uri": "https://localhost:8080/"
        },
        "id": "gS3gUTMcqNZq",
        "outputId": "def9728e-1fc3-4531-8b0f-56b72b4f4887"
      },
      "execution_count": null,
      "outputs": [
        {
          "output_type": "execute_result",
          "data": {
            "text/plain": [
              "array([[ 1.62434536, -0.61175641],\n",
              "       [-0.52817175, -1.07296862],\n",
              "       [ 0.86540763, -2.3015387 ]])"
            ]
          },
          "metadata": {},
          "execution_count": 3
        }
      ]
    },
    {
      "cell_type": "code",
      "source": [
        "A.shape , b.shape"
      ],
      "metadata": {
        "colab": {
          "base_uri": "https://localhost:8080/"
        },
        "id": "0Fuwpm-VYqct",
        "outputId": "74d0c8bd-81d4-4cb2-858e-9ec5522147f8"
      },
      "execution_count": null,
      "outputs": [
        {
          "output_type": "execute_result",
          "data": {
            "text/plain": [
              "((3, 2), (3,))"
            ]
          },
          "metadata": {},
          "execution_count": 27
        }
      ]
    },
    {
      "cell_type": "code",
      "source": [
        "# Construct the problem.\n",
        "x = cp.Variable(n)"
      ],
      "metadata": {
        "id": "jvZoXFjkIIaC"
      },
      "execution_count": null,
      "outputs": []
    },
    {
      "cell_type": "code",
      "source": [
        "# *, +, -, / are overloaded to construct CVXPY objects.\n",
        "cost = cp.sum_squares(A @ x - b)  #cp.norm2(A @ x - b)**2\n",
        "objective = cp.Minimize(cost)"
      ],
      "metadata": {
        "id": "AZn4DdOuINh5"
      },
      "execution_count": null,
      "outputs": []
    },
    {
      "cell_type": "code",
      "source": [
        "# <=, >=, == are overloaded to construct CVXPY constraints.\n",
        "constraints = [0 <= x, x <= 1]\n",
        "prob = cp.Problem(objective, constraints)\n"
      ],
      "metadata": {
        "id": "--C4rt1cIizB"
      },
      "execution_count": null,
      "outputs": []
    },
    {
      "cell_type": "code",
      "source": [
        "# The optimal objective is returned by prob.solve().\n",
        "result = prob.solve()"
      ],
      "metadata": {
        "id": "WRmMoQKnIrSZ"
      },
      "execution_count": null,
      "outputs": []
    },
    {
      "cell_type": "code",
      "source": [
        "# The optimal value for x is stored in x.value.\n",
        "print(x.value)\n",
        "# The optimal Lagrange multiplier for a constraint\n",
        "# is stored in constraint.dual_value.\n",
        "print(constraints[0].dual_value)"
      ],
      "metadata": {
        "colab": {
          "base_uri": "https://localhost:8080/"
        },
        "id": "dz22pKPqIuxa",
        "outputId": "32566db2-341c-4654-f6cd-293232ceefc1"
      },
      "execution_count": null,
      "outputs": [
        {
          "output_type": "stream",
          "name": "stdout",
          "text": [
            "[1.         0.21015949]\n",
            "[0. 0.]\n"
          ]
        }
      ]
    },
    {
      "cell_type": "markdown",
      "source": [
        "-----------------------------------------------------------"
      ],
      "metadata": {
        "id": "fD_2XRIwlyWS"
      }
    },
    {
      "cell_type": "markdown",
      "source": [
        "## Linear program\n",
        "\n",
        "A linear program is an optimization problem with a linear objective and affine inequality constraints. A common standard form is the following:\n",
        "\n",
        "$$\n",
        "\\begin{array}{ll} \\mbox{maximize} & c^Tx\\\\\n",
        "\\mbox{subject to} & Ax \\leq b\n",
        "\\end{array}\n",
        "$$\n",
        "\n",
        "Here  $A \\in {R}^{m \\times n}$ , $b \\in {R}^{m}$ and $c \\in {R}^{n}$ are problem data and $x \\in {R}^{n}$\n",
        "is the optimization variable. The inequality constraint $Ax \\leq b$ is elementwise.\n",
        "\n",
        "For example, we might have $n$ different products, each constructed out of $m$ components. Each entry $A_ij$ is the amount of component\n",
        " required to build one unit of product $j$. Each entry $b_i$  is the total amount of component $i$ available. We lose $c_j$  for each unit of product $j$($c_j < 0$ indicates profit). Our goal then is to choose how many units of each product $j$ to make, $x_j$  in order to minimize loss without exceeding our budget for any component.\n",
        "\n"
      ],
      "metadata": {
        "id": "G8S1wy-JT11W"
      }
    },
    {
      "cell_type": "code",
      "source": [
        "m = 3\n",
        "n = 2\n",
        "np.random.seed(1)\n",
        "A = np.random.randn(m, n)\n",
        "b = np.random.randn(m)\n",
        "c = np.random.randn(n)\n",
        "\n",
        "x = cp.Variable(n)\n"
      ],
      "metadata": {
        "id": "BvvooN1WdLY_"
      },
      "execution_count": null,
      "outputs": []
    },
    {
      "cell_type": "code",
      "source": [
        "prob = cp.Problem(cp.Minimize(c.T@x),[A @ x <= b])"
      ],
      "metadata": {
        "id": "tNvWNZcIeHNw"
      },
      "execution_count": null,
      "outputs": []
    },
    {
      "cell_type": "code",
      "source": [
        "\n",
        "prob.solve()\n",
        "\n",
        "# Print result.\n",
        "print(\"\\nThe optimal value is\", prob.value)\n",
        "print(\"The optimal x is\")\n",
        "print(x.value)\n"
      ],
      "metadata": {
        "colab": {
          "base_uri": "https://localhost:8080/"
        },
        "id": "FP6CXemwd7NV",
        "outputId": "66e439ec-004e-4a8b-817d-a1746c66856d"
      },
      "execution_count": null,
      "outputs": [
        {
          "output_type": "stream",
          "name": "stdout",
          "text": [
            "\n",
            "The optimal value is 0.0907327728184005\n",
            "The optimal x is\n",
            "[0.97672897 0.22864252]\n"
          ]
        }
      ]
    },
    {
      "cell_type": "code",
      "source": [
        "# Import packages.\n",
        "import cvxpy as cp\n",
        "import numpy as np\n",
        "\n",
        "# Generate a random non-trivial linear program.\n",
        "m = 15\n",
        "n = 10\n",
        "np.random.seed(1)\n",
        "s0 = np.random.randn(m)\n",
        "lamb0 = np.maximum(-s0, 0)\n",
        "s0 = np.maximum(s0, 0)\n",
        "x0 = np.random.randn(n)\n",
        "A = np.random.randn(m, n)\n",
        "b = A @ x0 + s0\n",
        "c = -A.T @ lamb0\n",
        "\n",
        "# Define and solve the CVXPY problem.\n",
        "x = cp.Variable(n)\n",
        "prob = cp.Problem(cp.Minimize(c.T@x),\n",
        "                 [A @ x <= b])\n",
        "prob.solve()\n",
        "\n",
        "# Print result.\n",
        "print(\"\\nThe optimal value is\", prob.value)\n",
        "print(\"A solution x is\")\n",
        "print(x.value)\n",
        "print(\"A dual solution is\")\n",
        "print(prob.constraints[0].dual_value)"
      ],
      "metadata": {
        "colab": {
          "base_uri": "https://localhost:8080/"
        },
        "id": "S80MB0_gfPGY",
        "outputId": "512ea3bb-ead4-4928-ae70-bac0981d8607"
      },
      "execution_count": null,
      "outputs": [
        {
          "output_type": "stream",
          "name": "stdout",
          "text": [
            "\n",
            "The optimal value is -15.220912604404832\n",
            "A solution x is\n",
            "[-1.1015836  -0.16207264 -0.90072437  0.03042621  0.61108486 -1.13141957\n",
            "  1.1270734   0.87833368  0.48871908  0.89807117]\n",
            "A dual solution is\n",
            "[2.45894208e-09 6.11756417e-01 5.28171745e-01 1.07296862e+00\n",
            " 6.38551602e-09 2.30153871e+00 1.12756160e-09 7.61206895e-01\n",
            " 1.31943038e-08 2.49370376e-01 2.02551464e-09 2.06014070e+00\n",
            " 3.22417209e-01 3.84054335e-01 2.94504008e-09]\n"
          ]
        }
      ]
    },
    {
      "cell_type": "markdown",
      "source": [
        "-----------------------------------------------------------"
      ],
      "metadata": {
        "id": "DFLe7FpIKZ90"
      }
    },
    {
      "cell_type": "code",
      "source": [
        "import numpy as np\n",
        "import matplotlib.pyplot as plt\n",
        "from sklearn.linear_model import LinearRegression\n",
        "import cvxpy as cp"
      ],
      "metadata": {
        "id": "m6YhvZAsKbXJ"
      },
      "execution_count": null,
      "outputs": []
    },
    {
      "cell_type": "code",
      "source": [
        "np.random.seed(42)\n",
        "X = 2 * np.random.rand(100, 1)\n",
        "y = 4 + 3 * X + np.random.randn(100, 1)\n"
      ],
      "metadata": {
        "id": "JZsUeaJ9Ke18"
      },
      "execution_count": null,
      "outputs": []
    },
    {
      "cell_type": "code",
      "source": [
        "plt.scatter(X, y)"
      ],
      "metadata": {
        "id": "d64ePP1aKqdb"
      },
      "execution_count": null,
      "outputs": []
    },
    {
      "cell_type": "code",
      "source": [
        "lin_reg = LinearRegression()\n",
        "lin_reg.fit(X, y)\n"
      ],
      "metadata": {
        "id": "hW4D316OKo7I"
      },
      "execution_count": null,
      "outputs": []
    },
    {
      "cell_type": "code",
      "source": [
        "w_sklearn = lin_reg.coef_[0][0]\n",
        "b_sklearn = lin_reg.intercept_[0]"
      ],
      "metadata": {
        "id": "NUphHV-EK_sy"
      },
      "execution_count": null,
      "outputs": []
    },
    {
      "cell_type": "code",
      "source": [
        "w = cp.Variable(1)\n",
        "b = cp.Variable(1)\n",
        "objective = cp.Minimize(cp.sum_squares(y - (w * X + b)))\n",
        "problem = cp.Problem(objective)\n",
        "problem.solve()\n",
        "\n"
      ],
      "metadata": {
        "colab": {
          "base_uri": "https://localhost:8080/"
        },
        "id": "FUT_3wcuLCSe",
        "outputId": "aa7d6e76-a19f-4a7d-dd56-af355bf8fa07"
      },
      "execution_count": null,
      "outputs": [
        {
          "output_type": "execute_result",
          "data": {
            "text/plain": [
              "80.65845639670532"
            ]
          },
          "metadata": {},
          "execution_count": 10
        }
      ]
    },
    {
      "cell_type": "code",
      "source": [
        "w_cvxpy = w.value[0]\n",
        "b_cvxpy = b.value[0]"
      ],
      "metadata": {
        "id": "5333iqY8Laa-"
      },
      "execution_count": null,
      "outputs": []
    },
    {
      "cell_type": "code",
      "source": [
        "comparison = {\n",
        "    \"Sklearn (w, b)\": (w_sklearn, b_sklearn),\n",
        "    \"CVXPY (w, b)\": (w_cvxpy, b_cvxpy),\n",
        "}"
      ],
      "metadata": {
        "id": "FYBAj4xTLjMc"
      },
      "execution_count": null,
      "outputs": []
    },
    {
      "cell_type": "code",
      "source": [
        "X_plot = np.linspace(0, 2, 100).reshape(-1, 1)\n",
        "y_sklearn_pred = w_sklearn * X_plot + b_sklearn\n",
        "y_cvxpy_pred = w_cvxpy * X_plot + b_cvxpy\n",
        "\n",
        "plt.scatter(X, y, label=\"data\", alpha=0.7)\n",
        "plt.plot(X_plot, y_cvxpy_pred, \"b-\", label=\"CVXPY Least Squares\")\n",
        "\n",
        "plt.plot(X_plot, y_sklearn_pred, \"r--\", label=\"Sklearn Regression\")\n",
        "plt.legend()\n",
        "plt.xlabel(\"X\")\n",
        "plt.ylabel(\"y\")\n",
        "plt.show()"
      ],
      "metadata": {
        "colab": {
          "base_uri": "https://localhost:8080/",
          "height": 449
        },
        "id": "tBfTsduaLrwZ",
        "outputId": "5c83e3bb-3f16-4f6f-edb8-97db52f085c8"
      },
      "execution_count": null,
      "outputs": [
        {
          "output_type": "display_data",
          "data": {
            "text/plain": [
              "<Figure size 640x480 with 1 Axes>"
            ],
            "image/png": "[encoded data removed]"
          },
          "metadata": {}
        }
      ]
    }
  ]
}